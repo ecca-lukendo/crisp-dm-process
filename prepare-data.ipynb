{
 "cells": [
  {
   "cell_type": "markdown",
   "metadata": {},
   "source": [
    "# Prepare Data\n",
    "\n",
    "In this step, I am going to transfer my data from CSV files into PostgreSQL database. The reason is that it is easier for me to query a database instead of files.\n",
    "\n",
    "First, we connect to our database called 'studentdb'."
   ]
  },
  {
   "cell_type": "code",
   "execution_count": null,
   "metadata": {},
   "outputs": [],
   "source": [
    "import pandas as pd\n",
    "import psycopg2\n",
    "\n",
    "# Connect to Postgres\n",
    "conn = psycopg2.connect(\"host=127.0.0.1 dbname=studentdb user=student password=student\")\n",
    "conn.set_session(autocommit=True)\n",
    "cur = conn.cursor()\n"
   ]
  },
  {
   "cell_type": "markdown",
   "metadata": {},
   "source": [
    "Then, we import the listings.csv file into table listings. To deal with missing data, I drop rows with NaN values."
   ]
  },
  {
   "cell_type": "code",
   "execution_count": null,
   "metadata": {},
   "outputs": [],
   "source": [
    "# Import listings.csv\n",
    "data = pd.read_csv ('./data/seattle/listings.csv')   \n",
    "df = pd.DataFrame(data, columns= ['id', 'neighbourhood', 'room_type'])\n",
    "\n",
    "# Remove NaN values from id column\n",
    "df1 = df.dropna(subset=['id', 'neighbourhood'],inplace=True)\n",
    "\n",
    "# Drop table listings if exists\n",
    "cur.execute('DROP TABLE IF EXISTS listings')\n",
    "\n",
    "# Create Table listings\n",
    "cur.execute('CREATE TABLE IF NOT EXISTS listings (id int PRIMARY KEY, neighbourhood varchar, room_type varchar)')\n",
    "\n",
    "# Insert DataFrame into table\n",
    "for row in df.itertuples():\n",
    "    cur.execute('INSERT INTO listings (id, neighbourhood, room_type) VALUES (%s,%s,%s)',[row.id, row.neighbourhood, row.room_type])\n",
    "conn.commit()"
   ]
  },
  {
   "cell_type": "markdown",
   "metadata": {},
   "source": [
    "Finally, we import the calendar.csv file in table calendar. "
   ]
  },
  {
   "cell_type": "code",
   "execution_count": null,
   "metadata": {},
   "outputs": [],
   "source": [
    "# Import calendar.csv\n",
    "data = pd.read_csv ('./data/seattle/calendar.csv')   \n",
    "df = pd.DataFrame(data, columns= ['listing_id', 'date', 'available', 'price'])\n",
    "\n",
    "# Drop table calendar if exists\n",
    "cur.execute('DROP TABLE IF EXISTS calendar')\n",
    "\n",
    "# Create table calendar\n",
    "cur.execute('CREATE TABLE  calendar(listing_id int , date varchar, available varchar, price varchar)')\n",
    "\n",
    "# Insert DataFrame into table\n",
    "for row in df.itertuples():\n",
    "    cur.execute('INSERT INTO calendar (listing_id, date, available, price) VALUES (%s,%s,%s,%s)',[row.listing_id, row.date, row.available, row.price])\n",
    "conn.commit()"
   ]
  },
  {
   "cell_type": "markdown",
   "metadata": {},
   "source": [
    "Data from the reviews.csv is not necessary to answer our three questions, but we can also import it :"
   ]
  },
  {
   "cell_type": "code",
   "execution_count": null,
   "metadata": {},
   "outputs": [],
   "source": [
    "# Import reviews.csv\n",
    "data = pd.read_csv ('./data/seattle/reviews.csv')   \n",
    "df = pd.DataFrame(data, columns= ['listing_id','date','comments'])\n",
    "\n",
    "# Drop table reviews if exists\n",
    "cur.execute('DROP TABLE IF EXISTS reviews')\n",
    "\n",
    "# Create Table reviews\n",
    "cur.execute('CREATE TABLE IF NOT EXISTS reviews (listing_id int, date varchar, comments varchar)')\n",
    "\n",
    "# Insert DataFrame into table\n",
    "for row in df.itertuples():\n",
    "    cur.execute('INSERT INTO reviews (listing_id, date, comments) VALUES (%s,%s,%s)',[row.listing_id, row.date, row.comments])\n",
    "conn.commit()"
   ]
  },
  {
   "cell_type": "code",
   "execution_count": null,
   "metadata": {},
   "outputs": [],
   "source": []
  }
 ],
 "metadata": {
  "kernelspec": {
   "display_name": "Python 3",
   "language": "python",
   "name": "python3"
  },
  "language_info": {
   "codemirror_mode": {
    "name": "ipython",
    "version": 3
   },
   "file_extension": ".py",
   "mimetype": "text/x-python",
   "name": "python",
   "nbconvert_exporter": "python",
   "pygments_lexer": "ipython3",
   "version": "3.8.3"
  }
 },
 "nbformat": 4,
 "nbformat_minor": 4
}
