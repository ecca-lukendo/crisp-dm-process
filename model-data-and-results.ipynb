{
 "cells": [
  {
   "cell_type": "code",
   "execution_count": 1,
   "metadata": {},
   "outputs": [],
   "source": [
    "import pandas as pd\n",
    "import psycopg2\n",
    "import numpy as np\n",
    "import matplotlib.pyplot as plt\n",
    "\n",
    "# Connect to Postgres\n",
    "conn = psycopg2.connect(\"host=127.0.0.1 dbname=studentdb user=student password=student\")\n",
    "conn.set_session(autocommit=True)\n",
    "cur = conn.cursor()"
   ]
  },
  {
   "cell_type": "markdown",
   "metadata": {},
   "source": [
    "#### Question 1: What are the busiest times to visit Seattle ? \n",
    "\n",
    "My answer to this question is based on calendar data from the year 2016."
   ]
  },
  {
   "cell_type": "code",
   "execution_count": 3,
   "metadata": {},
   "outputs": [
    {
     "name": "stdout",
     "output_type": "stream",
     "text": [
      "01 12073\n",
      "02 9656\n",
      "03 8957\n",
      "04 9727\n",
      "05 9485\n",
      "06 8962\n",
      "07 10446\n",
      "08 9675\n",
      "09 8400\n",
      "10 8107\n",
      "11 7290\n",
      "12 6884\n"
     ]
    }
   ],
   "source": [
    "# Query for Question 1\n",
    "cur.execute('select substring(date,1,7) as month,count(*) as count '\n",
    "            'from calendar where available=\\'f\\' '\n",
    "            'and substring(date,1,4)=\\'2016\\' '\n",
    "            'group by substring(date,1,7)')\n",
    "\n",
    "rows = cur.fetchall()\n",
    "\n",
    "months = []\n",
    "values = []\n",
    "for row in rows:\n",
    "    print('{} {}'.format(row[0][5:7],row[1]))\n",
    "    months.append(row[0][5:7])\n",
    "    values.append(row[1])\n",
    "\n"
   ]
  },
  {
   "cell_type": "code",
   "execution_count": 4,
   "metadata": {},
   "outputs": [
    {
     "data": {
      "image/png": "[encoded data removed]",
      "text/plain": [
       "<Figure size 432x288 with 1 Axes>"
      ]
     },
     "metadata": {
      "needs_background": "light"
     },
     "output_type": "display_data"
    }
   ],
   "source": [
    "plt.bar(months, values)\n",
    "plt.show()"
   ]
  },
  {
   "cell_type": "markdown",
   "metadata": {},
   "source": [
    "#### Question 2 : What are the favorite neighbourhoods ?"
   ]
  },
  {
   "cell_type": "code",
   "execution_count": 5,
   "metadata": {},
   "outputs": [
    {
     "name": "stdout",
     "output_type": "stream",
     "text": [
      "Belltown 28394\n",
      "Queen Anne 23369\n",
      "Minor 20597\n",
      "Wallingford 15797\n",
      "Ballard 15447\n"
     ]
    }
   ],
   "source": [
    "# Query for Question 2\n",
    "cur.execute('select l.neighbourhood as neighbourhood, count(*) as count '\n",
    "            'from listings l, calendar c '\n",
    "            'where c.listing_id=l.id '\n",
    "            'and c.available=\\'f\\' '\n",
    "            'and substring(c.date,1,4)=\\'2016\\' '  \n",
    "            'group by l.neighbourhood '\n",
    "            'order by count desc limit 5')\n",
    "\n",
    "rows = cur.fetchall()\n",
    "\n",
    "neighbourhoods = []\n",
    "values = []\n",
    "for row in rows:\n",
    "    print('{} {}'.format(row[0],row[1]))\n",
    "    neighbourhoods.append(row[0])\n",
    "    values.append(row[1])"
   ]
  },
  {
   "cell_type": "code",
   "execution_count": 6,
   "metadata": {},
   "outputs": [
    {
     "data": {
      "image/png": "[encoded data removed]",
      "text/plain": [
       "<Figure size 432x288 with 1 Axes>"
      ]
     },
     "metadata": {
      "needs_background": "light"
     },
     "output_type": "display_data"
    }
   ],
   "source": [
    "plt.bar(neighbourhoods, values)\n",
    "plt.show()"
   ]
  },
  {
   "cell_type": "markdown",
   "metadata": {},
   "source": [
    "#### Question 3 : By how much can prices spike ? "
   ]
  },
  {
   "cell_type": "code",
   "execution_count": 15,
   "metadata": {},
   "outputs": [
    {
     "name": "stdout",
     "output_type": "stream",
     "text": [
      "01 999.00\n",
      "02 999.00\n",
      "03 99.00\n",
      "04 99.00\n",
      "05 99.00\n",
      "06 99.00\n",
      "07 99.00\n",
      "08 99.00\n",
      "09 999.00\n",
      "10 999.00\n",
      "11 999.00\n",
      "12 999.00\n"
     ]
    }
   ],
   "source": [
    "# Query for Question 3\n",
    "cur.execute('select substring(date,1,7) as month, max(replace(price,\\'$\\',\\'\\')) as price '\n",
    "            'from calendar where available=\\'t\\' and substring(date,1,4)=\\'2016\\' '\n",
    "            'group by substring(date,1,7)')\n",
    "\n",
    "rows = cur.fetchall()\n",
    "\n",
    "months = []\n",
    "values = []\n",
    "for row in rows:\n",
    "    print('{} {}'.format(row[0][5:7],row[1]))\n",
    "    months.append(row[0][5:7])\n",
    "    values.append(int(float(row[1])))"
   ]
  },
  {
   "cell_type": "code",
   "execution_count": 16,
   "metadata": {},
   "outputs": [
    {
     "data": {
      "image/png": "[encoded data removed]",
      "text/plain": [
       "<Figure size 432x288 with 1 Axes>"
      ]
     },
     "metadata": {
      "needs_background": "light"
     },
     "output_type": "display_data"
    }
   ],
   "source": [
    "plt.bar(months, values)\n",
    "plt.show()"
   ]
  },
  {
   "cell_type": "code",
   "execution_count": null,
   "metadata": {},
   "outputs": [],
   "source": []
  }
 ],
 "metadata": {
  "kernelspec": {
   "display_name": "Python 3",
   "language": "python",
   "name": "python3"
  },
  "language_info": {
   "codemirror_mode": {
    "name": "ipython",
    "version": 3
   },
   "file_extension": ".py",
   "mimetype": "text/x-python",
   "name": "python",
   "nbconvert_exporter": "python",
   "pygments_lexer": "ipython3",
   "version": "3.8.3"
  }
 },
 "nbformat": 4,
 "nbformat_minor": 4
}
